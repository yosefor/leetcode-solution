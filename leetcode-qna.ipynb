{
 "cells": [
  {
   "cell_type": "markdown",
   "metadata": {},
   "source": []
  },
  {
   "cell_type": "code",
   "execution_count": 12,
   "metadata": {},
   "outputs": [
    {
     "name": "stdout",
     "output_type": "stream",
     "text": [
      "\n"
     ]
    }
   ],
   "source": [
    "# Question: https://leetcode.com/problems/merge-strings-alternately/?envType=study-plan-v2&envId=leetcode-75\n",
    "\n",
    "# Solution time complexity: O(n)\n",
    "class Solution(object):\n",
    "    def mergeAlternately(self, word1, word2):\n",
    "        \"\"\"\n",
    "        :type word1: str\n",
    "        :type word2: str\n",
    "        :rtype: str\n",
    "        \"\"\" \n",
    "        merged_list = []\n",
    "        for i in range(min(len(word1), len(word2))):\n",
    "            merged_list.append(word1[i])\n",
    "            merged_list.append(word2[i])\n",
    "\n",
    "        if len(word1) < len(word2):\n",
    "            merged_list.append(word2[len(word1):])\n",
    "        else:\n",
    "            merged_list.append(word1[len(word2):])\n",
    "\n",
    "        return ''.join(merged_list)\n"
   ]
  }
 ],
 "metadata": {
  "kernelspec": {
   "display_name": "Python 3",
   "language": "python",
   "name": "python3"
  },
  "language_info": {
   "codemirror_mode": {
    "name": "ipython",
    "version": 3
   },
   "file_extension": ".py",
   "mimetype": "text/x-python",
   "name": "python",
   "nbconvert_exporter": "python",
   "pygments_lexer": "ipython3",
   "version": "3.10.6"
  }
 },
 "nbformat": 4,
 "nbformat_minor": 2
}
